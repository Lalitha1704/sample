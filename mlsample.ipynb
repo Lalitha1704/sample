{
  "nbformat": 4,
  "nbformat_minor": 0,
  "metadata": {
    "colab": {
      "provenance": [],
      "include_colab_link": true
    },
    "kernelspec": {
      "name": "python3",
      "display_name": "Python 3"
    },
    "language_info": {
      "name": "python"
    }
  },
  "cells": [
    {
      "cell_type": "markdown",
      "metadata": {
        "id": "view-in-github",
        "colab_type": "text"
      },
      "source": [
        "<a href=\"https://colab.research.google.com/github/Lalitha1704/sample/blob/main/mlsample.ipynb\" target=\"_parent\"><img src=\"https://colab.research.google.com/assets/colab-badge.svg\" alt=\"Open In Colab\"/></a>"
      ]
    },
    {
      "cell_type": "code",
      "execution_count": null,
      "metadata": {
        "id": "te5qgHdyDNZl"
      },
      "outputs": [],
      "source": [
        "data = pd.read_csv('/home/sash/Documents/Sem_6/SMAI/Major_Project/Final-Data/FB.csv')\n",
        "print data.head()\n",
        "print '\\n Data Types:'\n",
        "print data.dtypes"
      ]
    },
    {
      "cell_type": "code",
      "source": [
        "dateparse = lambda dates: pd.datetime.strptime(dates, '%Y-%m-%d')\n",
        "# dateparse('1962-01')\n",
        "data = pd.read_csv('/home/sash/Documents/Sem_6/SMAI/Major_Project/Final-Data/FB.csv', parse_dates='date', \\\n",
        "                   index_col='date',date_parser=dateparse)\n",
        "print data.head()"
      ],
      "metadata": {
        "id": "kkivumOFDXNb"
      },
      "execution_count": null,
      "outputs": []
    },
    {
      "cell_type": "code",
      "source": [
        "#check datatype of index\n",
        "data.index"
      ],
      "metadata": {
        "id": "HK7nfmuIFUIv"
      },
      "execution_count": null,
      "outputs": []
    },
    {
      "cell_type": "code",
      "source": [
        "#convert to time series:\n",
        "ts = data['adj_close']\n",
        "ts.head(10)"
      ],
      "metadata": {
        "id": "-ByTRiSxFdys"
      },
      "execution_count": null,
      "outputs": []
    }
  ]
}